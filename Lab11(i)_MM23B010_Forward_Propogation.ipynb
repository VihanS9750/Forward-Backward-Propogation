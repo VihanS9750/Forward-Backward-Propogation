{
  "nbformat": 4,
  "nbformat_minor": 0,
  "metadata": {
    "colab": {
      "provenance": []
    },
    "kernelspec": {
      "name": "python3",
      "display_name": "Python 3"
    },
    "language_info": {
      "name": "python"
    }
  },
  "cells": [
    {
      "cell_type": "markdown",
      "source": [
        "# Forward Propogation Lab 11(i)"
      ],
      "metadata": {
        "id": "xY3Ycbini3zf"
      }
    },
    {
      "cell_type": "markdown",
      "source": [
        "Implement the forward propagation for a two-hidden-layer network for m-samples and n-features, as we discussed in class. Initialize the weights randomly. Use the data from the previous labs, such as logistic regression. You can choose the number of neurons in the hidden layer and use the sigmoid activation function. Report the evaluation metrics for the network.  Also, use other non-linear activation functions like ReLU and Tanh. Report the loss using both MSE and Cross Entropy."
      ],
      "metadata": {
        "id": "XCo3oCMgi_3e"
      }
    },
    {
      "cell_type": "code",
      "source": [
        "import pandas as pd\n",
        "import torch\n",
        "import torch.nn as nn\n",
        "import torch.nn.functional as F\n",
        "\n",
        "df = pd.read_csv(\"input2.csv\")\n",
        "\n",
        "print(df.head())\n",
        "\n",
        "\n",
        "df['Rain'] = df['Rain'].apply(lambda x: 1 if x.lower() == 'rain' else 0)\n",
        "\n",
        "print(\"Unique values in 'Rain' column:\", df['Rain'].unique())\n",
        "\n",
        "X = torch.tensor(df.iloc[:, :-1].values, dtype=torch.float32)\n",
        "y = torch.tensor(df.iloc[:, -1].values, dtype=torch.float32).reshape(-1, 1)\n",
        "\n",
        "print(df.head())\n",
        "\n",
        "\n",
        "X = (X - X.mean(0)) / X.std(0)\n",
        "\n",
        "m, n = X.shape\n",
        "\n",
        "activations = {\n",
        "    'Sigmoid': torch.sigmoid,\n",
        "    'ReLU': F.relu,\n",
        "    'Tanh': torch.tanh\n",
        "}\n",
        "\n",
        "def init_params():\n",
        "    torch.manual_seed(0)\n",
        "    W1 = torch.randn(n, 5)\n",
        "    b1 = torch.randn(1, 5)\n",
        "    W2 = torch.randn(5, 5)\n",
        "    b2 = torch.randn(1, 5)\n",
        "    W3 = torch.randn(5, 1)\n",
        "    b3 = torch.randn(1, 1)\n",
        "    return W1, b1, W2, b2, W3, b3\n",
        "\n",
        "def forward(X, W1, b1, W2, b2, W3, b3, activation_fn):\n",
        "    Z1 = activation_fn(X @ W1 + b1)\n",
        "    Z2 = activation_fn(Z1 @ W2 + b2)\n",
        "    output = torch.sigmoid(Z2 @ W3 + b3)\n",
        "    return output\n",
        "\n",
        "\n",
        "# Loss functions\n",
        "mse_loss_fn = nn.MSELoss()\n",
        "cross_entropy_loss_fn = nn.BCELoss()\n",
        "\n",
        "for name, act_fn in activations.items():\n",
        "    print(f\"\\n--- Using {name} Activation ---\")\n",
        "\n",
        "    W1, b1, W2, b2, W3, b3 = init_params()\n",
        "    y_pred = forward(X, W1, b1, W2, b2, W3, b3, act_fn)\n",
        "\n",
        "    print(f\"Predicted values (y_pred) range: {y_pred.min().item()} to {y_pred.max().item()}\")\n",
        "\n",
        "    mse = mse_loss_fn(y_pred, y)\n",
        "    ce = cross_entropy_loss_fn(y_pred, y)\n",
        "\n",
        "    print(f\"MSE Loss: {mse.item():.4f}\")\n",
        "    print(f\"Cross Entropy Loss: {ce.item():.4f}\")\n"
      ],
      "metadata": {
        "colab": {
          "base_uri": "https://localhost:8080/"
        },
        "id": "KPO6FYVxXQbf",
        "outputId": "a4901ed9-fa48-489c-f982-a6f020c135f2"
      },
      "execution_count": 30,
      "outputs": [
        {
          "output_type": "stream",
          "name": "stdout",
          "text": [
            "   Temperature   Humidity  Wind_Speed  Cloud_Cover     Pressure     Rain\n",
            "0    23.720338  89.592641    7.335604    50.501694  1032.378759     rain\n",
            "1    27.879734  46.489704    5.952484     4.990053   992.614190  no rain\n",
            "2    25.069084  83.072843    1.371992    14.855784  1007.231620  no rain\n",
            "3    23.622080  74.367758    7.050551    67.255282   982.632013     rain\n",
            "4    20.591370  96.858822    4.643921    47.676444   980.825142  no rain\n",
            "Unique values in 'Rain' column: [1 0]\n",
            "   Temperature   Humidity  Wind_Speed  Cloud_Cover     Pressure  Rain\n",
            "0    23.720338  89.592641    7.335604    50.501694  1032.378759     1\n",
            "1    27.879734  46.489704    5.952484     4.990053   992.614190     0\n",
            "2    25.069084  83.072843    1.371992    14.855784  1007.231620     0\n",
            "3    23.622080  74.367758    7.050551    67.255282   982.632013     1\n",
            "4    20.591370  96.858822    4.643921    47.676444   980.825142     0\n",
            "\n",
            "--- Using Sigmoid Activation ---\n",
            "Predicted values (y_pred) range: 0.9241077899932861 to 0.9539364576339722\n",
            "MSE Loss: 0.7792\n",
            "Cross Entropy Loss: 2.5284\n",
            "\n",
            "--- Using ReLU Activation ---\n",
            "Predicted values (y_pred) range: 0.7140781283378601 to 1.0\n",
            "MSE Loss: 0.8160\n",
            "Cross Entropy Loss: 5.2416\n",
            "\n",
            "--- Using Tanh Activation ---\n",
            "Predicted values (y_pred) range: 0.6564701795578003 to 0.9857692122459412\n",
            "MSE Loss: 0.7519\n",
            "Cross Entropy Loss: 2.7221\n"
          ]
        }
      ]
    }
  ]
}